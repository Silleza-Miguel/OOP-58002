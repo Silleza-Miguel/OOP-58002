{
  "nbformat": 4,
  "nbformat_minor": 0,
  "metadata": {
    "colab": {
      "name": "Lab 4.ipynb",
      "provenance": [],
      "authorship_tag": "ABX9TyPGx2D1X0+D9T/au4YJN3MI",
      "include_colab_link": true
    },
    "kernelspec": {
      "name": "python3",
      "display_name": "Python 3"
    },
    "language_info": {
      "name": "python"
    }
  },
  "cells": [
    {
      "cell_type": "markdown",
      "metadata": {
        "id": "view-in-github",
        "colab_type": "text"
      },
      "source": [
        "<a href=\"https://colab.research.google.com/github/Taiga05/OOP-58002/blob/main/%20OOP-58002/Assignments/Lab_4.ipynb\" target=\"_parent\"><img src=\"https://colab.research.google.com/assets/colab-badge.svg\" alt=\"Open In Colab\"/></a>"
      ]
    },
    {
      "cell_type": "code",
      "execution_count": 1,
      "metadata": {
        "colab": {
          "base_uri": "https://localhost:8080/"
        },
        "id": "O0b8kheuxOSt",
        "outputId": "7c604103-c68c-40e9-ce27-38d725df3767"
      },
      "outputs": [
        {
          "output_type": "stream",
          "name": "stdout",
          "text": [
            "Name: Jeremiah Harland\n",
            "Prelim Grade: 73.4\n",
            "Midterm Grade: 66.6\n",
            "Finals Grade: 75.0\n",
            "\n",
            "Name: Naomi Ethel\n",
            "Prelim Grade: 56.8\n",
            "Midterm Grade: 79.4\n",
            "Finals Grade: 63.2\n",
            "\n",
            "Name: Vivienne Audrey\n",
            "Prelim Grade: 84.0\n",
            "Midterm Grade: 80.2\n",
            "Finals Grade: 76.0\n",
            "\n"
          ]
        }
      ],
      "source": [
        "class Person:\n",
        "    def __init__(self, std):\n",
        "        self.std = std\n",
        "        self.__pre = 0\n",
        "        self.__mid = 0\n",
        "        self.__fin = 0\n",
        "\n",
        "\n",
        "class Student(Person):\n",
        "    def preGrade(self, classStanding, exam):\n",
        "        self.__pre = (classStanding * 0.6) + (exam * 0.4)\n",
        "        return self\n",
        "\n",
        "    def midGrade(self, classStanding, exam):\n",
        "        self.__mid = (classStanding * 0.6) + (exam * 0.4)\n",
        "        return self\n",
        "\n",
        "    def finGrade(self, classStanding, exam):\n",
        "        self.__fin = (classStanding * 0.6) + (exam * 0.4)\n",
        "        return self\n",
        "\n",
        "    def display(self):\n",
        "        print(f'Name: {self.std}\\n'\n",
        "              f'Prelim Grade: {round(self.__pre, 2)}\\n'\n",
        "              f'Midterm Grade: {round(self.__mid, 2)}\\n'\n",
        "              f'Finals Grade: {round(self.__fin, 2)}\\n')\n",
        "        return self\n",
        "\n",
        "\n",
        "std1 = Student(\"Jeremiah Harland\").preGrade(69, 80).midGrade(57, 81).finGrade(79, 69).display()\n",
        "std2 = Student(\"Naomi Ethel\").preGrade(52, 64).midGrade(97, 53).finGrade(62, 65).display()\n",
        "std3 = Student(\"Vivienne Audrey\").preGrade(88, 78).midGrade(85, 73).finGrade(70, 85).display()"
      ]
    }
  ]
}